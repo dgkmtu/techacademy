{
 "cells": [
  {
   "cell_type": "markdown",
   "metadata": {
    "colab_type": "text",
    "id": "9MtXCKr3JDkN"
   },
   "source": [
    "# 課題6: ディープラーニング\n",
    "\n",
    "今回の課題では手書き文字の認識をCNNを用いて行います。\n",
    "\n",
    "下記にKerasから手書き文字のデータセットをダウンロードするコードが記載されています。\n",
    "\n",
    "このデータを用いてディープラーニングのモデルを構築してください。\n",
    "\n",
    "今までのレッスンで学んだ内容を踏まえ、各セルに'#コメント'の内容を実行するコードを記入してください。\n",
    "\n",
    "※既にソースコードが記載されているセルは変更不要です。"
   ]
  },
  {
   "cell_type": "markdown",
   "metadata": {
    "colab_type": "text",
    "id": "1KxQExnVJDkS"
   },
   "source": [
    "## 1. ライブラリのインポート"
   ]
  },
  {
   "cell_type": "code",
   "execution_count": 1,
   "metadata": {
    "colab": {
     "base_uri": "https://localhost:8080/",
     "height": 63
    },
    "colab_type": "code",
    "id": "9OCdQVS-JDkT",
    "outputId": "c7d9dd35-a8c7-4f80-b82d-ea42bddf6cf6"
   },
   "outputs": [],
   "source": [
    "import numpy as np\n",
    "import matplotlib.pyplot as plt\n",
    "import pandas as pd\n",
    "\n",
    "# Keras\n",
    "from tensorflow import keras\n",
    "from tensorflow.keras.layers import Dense, Activation\n",
    "from tensorflow.keras.models import Sequential\n",
    "from tensorflow.keras.utils import to_categorical\n",
    "\n",
    "# データの分割\n",
    "from sklearn.model_selection import train_test_split\n",
    "\n",
    "# 手書き数字のデータセット\n",
    "from tensorflow.keras.datasets import mnist\n",
    "\n",
    "# JupyterNotebook上でグラフを表示する設定\n",
    "%matplotlib inline\n",
    "# DataFrameで全ての列を表示する設定\n",
    "pd.options.display.max_columns = None"
   ]
  },
  {
   "cell_type": "markdown",
   "metadata": {
    "colab_type": "text",
    "id": "GrRHWO-sJDkY"
   },
   "source": [
    "## 2. データの読込\n",
    "Kerasのデータセットは予めTraining setとTest setに分けられています。戻り値はタプルで取得できます。"
   ]
  },
  {
   "cell_type": "code",
   "execution_count": 2,
   "metadata": {
    "colab": {},
    "colab_type": "code",
    "id": "OmCdK5UDJDka"
   },
   "outputs": [],
   "source": [
    "# Kerasに添付されている手書き数字のデータセットをダウンロード\n",
    "(X_train, Y_train), (X_test, Y_test) = mnist.load_data()"
   ]
  },
  {
   "cell_type": "markdown",
   "metadata": {
    "colab_type": "text",
    "id": "Pjk0dp4fJDke"
   },
   "source": [
    "## 3.データの確認"
   ]
  },
  {
   "cell_type": "code",
   "execution_count": 3,
   "metadata": {
    "colab": {
     "base_uri": "https://localhost:8080/",
     "height": 85
    },
    "colab_type": "code",
    "id": "Xtan1ZM8JDkf",
    "outputId": "6f5563d5-5242-44d2-e629-f705a151b7e0"
   },
   "outputs": [
    {
     "name": "stdout",
     "output_type": "stream",
     "text": [
      "X_train= (60000, 28, 28) , Y_train= (60000,)\n",
      "X_test = (10000, 28, 28) , Y_test = (10000,)\n"
     ]
    }
   ],
   "source": [
    "# 形状の確認\n",
    "print(\"X_train=\", X_train.shape, \", Y_train=\", Y_train.shape)\n",
    "print(\"X_test =\", X_test.shape, \", Y_test =\", Y_test.shape)\n",
    "\n"
   ]
  },
  {
   "cell_type": "code",
   "execution_count": 4,
   "metadata": {
    "colab": {
     "base_uri": "https://localhost:8080/",
     "height": 1000
    },
    "colab_type": "code",
    "id": "2gVHUVDsJDkl",
    "outputId": "fa966cd7-7992-412f-8d49-a38597d8e71a"
   },
   "outputs": [
    {
     "data": {
      "text/plain": [
       "array([[  0,   0,   0,   0,   0,   0,   0,   0,   0,   0,   0,   0,   0,\n",
       "          0,   0,   0,   0,   0,   0,   0,   0,   0,   0,   0,   0,   0,\n",
       "          0,   0],\n",
       "       [  0,   0,   0,   0,   0,   0,   0,   0,   0,   0,   0,   0,   0,\n",
       "          0,   0,   0,   0,   0,   0,   0,   0,   0,   0,   0,   0,   0,\n",
       "          0,   0],\n",
       "       [  0,   0,   0,   0,   0,   0,   0,   0,   0,   0,   0,   0,   0,\n",
       "          0,   0,   0,   0,   0,   0,   0,   0,   0,   0,   0,   0,   0,\n",
       "          0,   0],\n",
       "       [  0,   0,   0,   0,   0,   0,   0,   0,   0,   0,   0,   0,   0,\n",
       "          0,   0,   0,   0,   0,   0,   0,   0,   0,   0,   0,   0,   0,\n",
       "          0,   0],\n",
       "       [  0,   0,   0,   0,   0,   0,   0,   0,   0,   0,   0,   0,   0,\n",
       "          0,   0,   0,   0,   0,   0,   0,   0,   0,   0,   0,   0,   0,\n",
       "          0,   0],\n",
       "       [  0,   0,   0,   0,   0,   0,   0,   0,   0,   0,   0,   0,   3,\n",
       "         18,  18,  18, 126, 136, 175,  26, 166, 255, 247, 127,   0,   0,\n",
       "          0,   0],\n",
       "       [  0,   0,   0,   0,   0,   0,   0,   0,  30,  36,  94, 154, 170,\n",
       "        253, 253, 253, 253, 253, 225, 172, 253, 242, 195,  64,   0,   0,\n",
       "          0,   0],\n",
       "       [  0,   0,   0,   0,   0,   0,   0,  49, 238, 253, 253, 253, 253,\n",
       "        253, 253, 253, 253, 251,  93,  82,  82,  56,  39,   0,   0,   0,\n",
       "          0,   0],\n",
       "       [  0,   0,   0,   0,   0,   0,   0,  18, 219, 253, 253, 253, 253,\n",
       "        253, 198, 182, 247, 241,   0,   0,   0,   0,   0,   0,   0,   0,\n",
       "          0,   0],\n",
       "       [  0,   0,   0,   0,   0,   0,   0,   0,  80, 156, 107, 253, 253,\n",
       "        205,  11,   0,  43, 154,   0,   0,   0,   0,   0,   0,   0,   0,\n",
       "          0,   0],\n",
       "       [  0,   0,   0,   0,   0,   0,   0,   0,   0,  14,   1, 154, 253,\n",
       "         90,   0,   0,   0,   0,   0,   0,   0,   0,   0,   0,   0,   0,\n",
       "          0,   0],\n",
       "       [  0,   0,   0,   0,   0,   0,   0,   0,   0,   0,   0, 139, 253,\n",
       "        190,   2,   0,   0,   0,   0,   0,   0,   0,   0,   0,   0,   0,\n",
       "          0,   0],\n",
       "       [  0,   0,   0,   0,   0,   0,   0,   0,   0,   0,   0,  11, 190,\n",
       "        253,  70,   0,   0,   0,   0,   0,   0,   0,   0,   0,   0,   0,\n",
       "          0,   0],\n",
       "       [  0,   0,   0,   0,   0,   0,   0,   0,   0,   0,   0,   0,  35,\n",
       "        241, 225, 160, 108,   1,   0,   0,   0,   0,   0,   0,   0,   0,\n",
       "          0,   0],\n",
       "       [  0,   0,   0,   0,   0,   0,   0,   0,   0,   0,   0,   0,   0,\n",
       "         81, 240, 253, 253, 119,  25,   0,   0,   0,   0,   0,   0,   0,\n",
       "          0,   0],\n",
       "       [  0,   0,   0,   0,   0,   0,   0,   0,   0,   0,   0,   0,   0,\n",
       "          0,  45, 186, 253, 253, 150,  27,   0,   0,   0,   0,   0,   0,\n",
       "          0,   0],\n",
       "       [  0,   0,   0,   0,   0,   0,   0,   0,   0,   0,   0,   0,   0,\n",
       "          0,   0,  16,  93, 252, 253, 187,   0,   0,   0,   0,   0,   0,\n",
       "          0,   0],\n",
       "       [  0,   0,   0,   0,   0,   0,   0,   0,   0,   0,   0,   0,   0,\n",
       "          0,   0,   0,   0, 249, 253, 249,  64,   0,   0,   0,   0,   0,\n",
       "          0,   0],\n",
       "       [  0,   0,   0,   0,   0,   0,   0,   0,   0,   0,   0,   0,   0,\n",
       "          0,  46, 130, 183, 253, 253, 207,   2,   0,   0,   0,   0,   0,\n",
       "          0,   0],\n",
       "       [  0,   0,   0,   0,   0,   0,   0,   0,   0,   0,   0,   0,  39,\n",
       "        148, 229, 253, 253, 253, 250, 182,   0,   0,   0,   0,   0,   0,\n",
       "          0,   0],\n",
       "       [  0,   0,   0,   0,   0,   0,   0,   0,   0,   0,  24, 114, 221,\n",
       "        253, 253, 253, 253, 201,  78,   0,   0,   0,   0,   0,   0,   0,\n",
       "          0,   0],\n",
       "       [  0,   0,   0,   0,   0,   0,   0,   0,  23,  66, 213, 253, 253,\n",
       "        253, 253, 198,  81,   2,   0,   0,   0,   0,   0,   0,   0,   0,\n",
       "          0,   0],\n",
       "       [  0,   0,   0,   0,   0,   0,  18, 171, 219, 253, 253, 253, 253,\n",
       "        195,  80,   9,   0,   0,   0,   0,   0,   0,   0,   0,   0,   0,\n",
       "          0,   0],\n",
       "       [  0,   0,   0,   0,  55, 172, 226, 253, 253, 253, 253, 244, 133,\n",
       "         11,   0,   0,   0,   0,   0,   0,   0,   0,   0,   0,   0,   0,\n",
       "          0,   0],\n",
       "       [  0,   0,   0,   0, 136, 253, 253, 253, 212, 135, 132,  16,   0,\n",
       "          0,   0,   0,   0,   0,   0,   0,   0,   0,   0,   0,   0,   0,\n",
       "          0,   0],\n",
       "       [  0,   0,   0,   0,   0,   0,   0,   0,   0,   0,   0,   0,   0,\n",
       "          0,   0,   0,   0,   0,   0,   0,   0,   0,   0,   0,   0,   0,\n",
       "          0,   0],\n",
       "       [  0,   0,   0,   0,   0,   0,   0,   0,   0,   0,   0,   0,   0,\n",
       "          0,   0,   0,   0,   0,   0,   0,   0,   0,   0,   0,   0,   0,\n",
       "          0,   0],\n",
       "       [  0,   0,   0,   0,   0,   0,   0,   0,   0,   0,   0,   0,   0,\n",
       "          0,   0,   0,   0,   0,   0,   0,   0,   0,   0,   0,   0,   0,\n",
       "          0,   0]], dtype=uint8)"
      ]
     },
     "execution_count": 4,
     "metadata": {},
     "output_type": "execute_result"
    }
   ],
   "source": [
    "# X_trainの先頭1行を表示\n",
    "X_train[0]"
   ]
  },
  {
   "cell_type": "code",
   "execution_count": 5,
   "metadata": {
    "colab": {
     "base_uri": "https://localhost:8080/",
     "height": 34
    },
    "colab_type": "code",
    "id": "SRbWwy6UJDkp",
    "outputId": "aa0fef7b-27d6-49fd-a0c5-823030e13384"
   },
   "outputs": [
    {
     "data": {
      "text/plain": [
       "5"
      ]
     },
     "execution_count": 5,
     "metadata": {},
     "output_type": "execute_result"
    }
   ],
   "source": [
    "# Y_trainの先頭1行を表示\n",
    "Y_train[0]"
   ]
  },
  {
   "cell_type": "markdown",
   "metadata": {
    "colab_type": "text",
    "id": "reqZYLlGJDkt"
   },
   "source": [
    "### 手書き数字の可視化"
   ]
  },
  {
   "cell_type": "code",
   "execution_count": 6,
   "metadata": {
    "colab": {},
    "colab_type": "code",
    "id": "TxaXmO6kJDku"
   },
   "outputs": [],
   "source": [
    "# 「数字:空のリスト」の辞書を作成する\n",
    "images = {label: [] for label in range(0,10)}"
   ]
  },
  {
   "cell_type": "code",
   "execution_count": 7,
   "metadata": {
    "colab": {},
    "colab_type": "code",
    "id": "XDR99WayJDky"
   },
   "outputs": [],
   "source": [
    "# 総イメージ数\n",
    "image_count = 0\n",
    "\n",
    "# それぞれの数字のリストに、説明変数をappendしていく\n",
    "for i in range(0, len(X_train)):\n",
    "    if len(images[Y_train[i]]) < 10:\n",
    "        images[Y_train[i]].append(X_train[i])\n",
    "        image_count += 1\n",
    "        if image_count == 100:\n",
    "            break"
   ]
  },
  {
   "cell_type": "code",
   "execution_count": 8,
   "metadata": {
    "colab": {
     "base_uri": "https://localhost:8080/",
     "height": 303
    },
    "colab_type": "code",
    "id": "qFdmn93gJDk1",
    "outputId": "2f54d47d-1890-49f6-8e1b-7bc4ac268dd5"
   },
   "outputs": [
    {
     "data": {
      "image/png": "[encoded data removed]",
      "text/plain": [
       "<Figure size 360x360 with 100 Axes>"
      ]
     },
     "metadata": {},
     "output_type": "display_data"
    }
   ],
   "source": [
    "# 少し時間がかかります。\n",
    "# 10行10列にグラフを分割\n",
    "fig, ax = plt.subplots(10, 10, figsize=(5, 5))\n",
    "\n",
    "for i in range(10):\n",
    "    # ラベル\n",
    "    ax[i, 0].set_ylabel(i)\n",
    "\n",
    "    for j in range(10):\n",
    "        # zは左上から数えたグラフの描画位置\n",
    "        z = i * 10 + j\n",
    "\n",
    "        # 行=i、列=jの位置に画像を描画する\n",
    "        ax[i, j].imshow(images[i][j].reshape(28, 28), cmap='Greys')\n",
    "\n",
    "        # 目盛を表示しない設定\n",
    "        ax[i, j].tick_params(left=False, labelleft=False, bottom=False, labelbottom=False)\n",
    "\n",
    "plt.show()"
   ]
  },
  {
   "cell_type": "markdown",
   "metadata": {
    "colab_type": "text",
    "id": "DHIMd_H6JDk5"
   },
   "source": [
    "## 4. データの前処理"
   ]
  },
  {
   "cell_type": "code",
   "execution_count": 9,
   "metadata": {
    "colab": {
     "base_uri": "https://localhost:8080/",
     "height": 85
    },
    "colab_type": "code",
    "id": "qweAKyoqJDk6",
    "outputId": "53bdbae6-28cd-451e-9c35-8bd82d30f96e"
   },
   "outputs": [
    {
     "name": "stdout",
     "output_type": "stream",
     "text": [
      "(60000, 28, 28)\n",
      "(60000,)\n",
      "(10000, 28, 28)\n",
      "(10000,)\n"
     ]
    }
   ],
   "source": [
    "# 形状の確認\n",
    "print(X_train.shape)\n",
    "print(Y_train.shape)\n",
    "print(X_test.shape)\n",
    "print(Y_test.shape)"
   ]
  },
  {
   "cell_type": "code",
   "execution_count": 10,
   "metadata": {
    "colab": {},
    "colab_type": "code",
    "id": "yKADV4C2JDk-"
   },
   "outputs": [],
   "source": [
    "# len関数を使い、X_trainを(X_trainの長さ, 28, 28, 1)にreshapeしてX_train2に代入\n",
    "X_train2 = X_train.reshape(len(X_train), 28, 28, 1)\n",
    "\n",
    "# len関数を使い、X_testを(X_testの長さ, 28, 28, 1)にreshapeしてX_test2に代入\n",
    "X_test2 = X_test.reshape(len(X_test), 28, 28, 1)\n"
   ]
  },
  {
   "cell_type": "code",
   "execution_count": 11,
   "metadata": {
    "colab": {},
    "colab_type": "code",
    "id": "i8h8DUcJJDlA"
   },
   "outputs": [],
   "source": [
    "# to_categoricalを使い、Y_trainをカテゴリー変数に展開してY_train2に代入\n",
    "Y_train2 = to_categorical(Y_train)\n",
    "# to_categoricalを使い、Y_testをカテゴリー変数に展開してY_test2に代入\n",
    "Y_test2 = to_categorical(Y_test)\n"
   ]
  },
  {
   "cell_type": "code",
   "execution_count": 12,
   "metadata": {
    "colab": {
     "base_uri": "https://localhost:8080/",
     "height": 85
    },
    "colab_type": "code",
    "id": "3EmJUH5VJDlD",
    "outputId": "dcf3432f-4857-412a-a15f-b615d8783ec1"
   },
   "outputs": [
    {
     "name": "stdout",
     "output_type": "stream",
     "text": [
      "X_train2= (60000, 28, 28, 1) Y_train2= (60000, 10)\n",
      "X_test2 = (10000, 28, 28, 1) Y_test2= (10000, 10)\n"
     ]
    }
   ],
   "source": [
    "# 形状の確認\n",
    "print(\"X_train2=\", X_train2.shape, \"Y_train2=\", Y_train2.shape)\n",
    "print(\"X_test2 =\", X_test2.shape, \"Y_test2=\", Y_test2.shape)\n",
    "\n"
   ]
  },
  {
   "cell_type": "code",
   "execution_count": 13,
   "metadata": {
    "colab": {},
    "colab_type": "code",
    "id": "IUPxObRwJDlG"
   },
   "outputs": [],
   "source": [
    "# train_test_splitを使いデータを7:3に分割\n",
    "# 機械学習用データ(X_train2、Y_train2)を「X_train2, X_valid2, Y_train2, Y_valid2」に分割\n",
    "X_train2, X_valid2, Y_train2, Y_valid2 = train_test_split(X_train2, Y_train2, test_size=0.3, random_state=0)\n"
   ]
  },
  {
   "cell_type": "code",
   "execution_count": 14,
   "metadata": {
    "colab": {
     "base_uri": "https://localhost:8080/",
     "height": 68
    },
    "colab_type": "code",
    "id": "Ijwe_AtYJDlI",
    "outputId": "9fc1f496-6d7d-42c2-e99e-b4b319b1024b"
   },
   "outputs": [
    {
     "name": "stdout",
     "output_type": "stream",
     "text": [
      "X_train2= (42000, 28, 28, 1) Y_train2= (42000, 10)\n",
      "X_valid2= (18000, 28, 28, 1) Y_valid2= (18000, 10)\n"
     ]
    }
   ],
   "source": [
    "# データ(学習、検証、テスト)の形状を確認\n",
    "print(\"X_train2=\", X_train2.shape, \"Y_train2=\", Y_train2.shape)\n",
    "print(\"X_valid2=\", X_valid2.shape, \"Y_valid2=\", Y_valid2.shape)\n"
   ]
  },
  {
   "cell_type": "markdown",
   "metadata": {
    "colab_type": "text",
    "id": "B9-lzLelJDlL"
   },
   "source": [
    "## 5. モデルの構築\n",
    "\n",
    "Kerasを使ってモデルを構築してみましょう。以下を条件とします\n",
    "\n",
    "- CNN(Conv2D)を使うこと\n",
    "- 正解率(accuracy)が50%以上であること\n",
    "\n",
    "場合によっては、学習にものすごく時間がかかる場合もあります。適宜パラメータ数を調整して行ってください"
   ]
  },
  {
   "cell_type": "code",
   "execution_count": 15,
   "metadata": {
    "colab": {},
    "colab_type": "code",
    "id": "SPPK9B9wJDlM"
   },
   "outputs": [],
   "source": [
    "# ライブラリのインポート\n",
    "from tensorflow.keras.layers import Conv2D\n",
    "from tensorflow.keras.layers import Flatten\n",
    "from tensorflow.keras.layers import MaxPooling2D\n",
    "from tensorflow.keras.layers import Dropout\n",
    "from tensorflow.keras import regularizers"
   ]
  },
  {
   "cell_type": "code",
   "execution_count": 16,
   "metadata": {
    "colab": {},
    "colab_type": "code",
    "id": "5pgXjSL_JDlO",
    "scrolled": true
   },
   "outputs": [],
   "source": [
    "# モデルの初期化\n",
    "model = keras.Sequential()\n",
    "\n",
    "# ここにモデルを構築するコードを記述してください\n",
    "# 入力層\n",
    "model.add(Conv2D(32, kernel_size=3, padding=\"same\", strides=1,\n",
    "                 input_shape=(28, 28, 1,), activation=\"relu\"))\n",
    "model.add(Flatten())\n",
    "# 隠れ層\n",
    "model.add(Dense(16, activation=\"relu\"))\n",
    "# 出力層\n",
    "model.add(Dense(10, activation=\"softmax\"))\n",
    "\n",
    "# モデルの構築\n",
    "model.compile(optimizer=\"rmsprop\", loss=\"categorical_crossentropy\", metrics=['accuracy'])\n"
   ]
  },
  {
   "cell_type": "code",
   "execution_count": 17,
   "metadata": {
    "colab": {
     "base_uri": "https://localhost:8080/",
     "height": 493
    },
    "colab_type": "code",
    "id": "bV2p_OUYJDlR",
    "outputId": "9cee5ecd-1417-4f46-bc48-ecd7a082b4d1"
   },
   "outputs": [
    {
     "name": "stdout",
     "output_type": "stream",
     "text": [
      "Model: \"sequential\"\n",
      "_________________________________________________________________\n",
      "Layer (type)                 Output Shape              Param #   \n",
      "=================================================================\n",
      "conv2d (Conv2D)              (None, 28, 28, 32)        320       \n",
      "_________________________________________________________________\n",
      "flatten (Flatten)            (None, 25088)             0         \n",
      "_________________________________________________________________\n",
      "dense (Dense)                (None, 16)                401424    \n",
      "_________________________________________________________________\n",
      "dense_1 (Dense)              (None, 10)                170       \n",
      "=================================================================\n",
      "Total params: 401,914\n",
      "Trainable params: 401,914\n",
      "Non-trainable params: 0\n",
      "_________________________________________________________________\n"
     ]
    }
   ],
   "source": [
    "# モデルの構造を表示\n",
    "model.summary()\n"
   ]
  },
  {
   "cell_type": "code",
   "execution_count": 18,
   "metadata": {
    "colab": {
     "base_uri": "https://localhost:8080/",
     "height": 1000
    },
    "colab_type": "code",
    "id": "2NEyRuNtJDlU",
    "outputId": "6ce11df2-56c6-485b-e043-bd089c69273d"
   },
   "outputs": [
    {
     "name": "stdout",
     "output_type": "stream",
     "text": [
      "Train on 42000 samples, validate on 18000 samples\n",
      "Epoch 1/5000\n",
      "42000/42000 [==============================] - 29s 681us/sample - loss: 1.9875 - accuracy: 0.4573 - val_loss: 0.5590 - val_accuracy: 0.8653\n",
      "Epoch 2/5000\n",
      "42000/42000 [==============================] - 27s 642us/sample - loss: 0.2131 - accuracy: 0.9470 - val_loss: 0.1355 - val_accuracy: 0.9610\n",
      "Epoch 3/5000\n",
      "42000/42000 [==============================] - 28s 656us/sample - loss: 0.0898 - accuracy: 0.9758 - val_loss: 0.1089 - val_accuracy: 0.9713\n",
      "Epoch 4/5000\n",
      "42000/42000 [==============================] - 27s 644us/sample - loss: 0.0633 - accuracy: 0.9829 - val_loss: 0.1263 - val_accuracy: 0.9698\n",
      "Epoch 5/5000\n",
      "42000/42000 [==============================] - 27s 647us/sample - loss: 0.0504 - accuracy: 0.9869 - val_loss: 0.1262 - val_accuracy: 0.9733\n",
      "Epoch 6/5000\n",
      "42000/42000 [==============================] - 27s 652us/sample - loss: 0.0373 - accuracy: 0.9910 - val_loss: 0.1539 - val_accuracy: 0.9732\n",
      "Epoch 7/5000\n",
      "42000/42000 [==============================] - 28s 656us/sample - loss: 0.0317 - accuracy: 0.9921 - val_loss: 0.1935 - val_accuracy: 0.9714\n",
      "Epoch 8/5000\n",
      "42000/42000 [==============================] - 27s 652us/sample - loss: 0.0238 - accuracy: 0.9949 - val_loss: 0.1933 - val_accuracy: 0.9733\n",
      "Epoch 9/5000\n",
      "42000/42000 [==============================] - 28s 660us/sample - loss: 0.0193 - accuracy: 0.9955 - val_loss: 0.2866 - val_accuracy: 0.9698\n",
      "Epoch 10/5000\n",
      "42000/42000 [==============================] - 27s 651us/sample - loss: 0.0153 - accuracy: 0.9966 - val_loss: 0.3012 - val_accuracy: 0.9715\n",
      "Epoch 11/5000\n",
      "42000/42000 [==============================] - 28s 655us/sample - loss: 0.0123 - accuracy: 0.9971 - val_loss: 0.3289 - val_accuracy: 0.9706\n",
      "Epoch 12/5000\n",
      "42000/42000 [==============================] - 27s 655us/sample - loss: 0.0132 - accuracy: 0.9976 - val_loss: 0.3721 - val_accuracy: 0.9703\n",
      "Epoch 13/5000\n",
      "42000/42000 [==============================] - 27s 648us/sample - loss: 0.0107 - accuracy: 0.9979 - val_loss: 0.4166 - val_accuracy: 0.9718\n",
      "Epoch 14/5000\n",
      "42000/42000 [==============================] - 27s 653us/sample - loss: 0.0094 - accuracy: 0.9980 - val_loss: 0.3752 - val_accuracy: 0.9736\n",
      "Epoch 15/5000\n",
      "42000/42000 [==============================] - 27s 648us/sample - loss: 0.0059 - accuracy: 0.9986 - val_loss: 0.4584 - val_accuracy: 0.9716\n",
      "Epoch 16/5000\n",
      "42000/42000 [==============================] - 28s 659us/sample - loss: 0.0086 - accuracy: 0.9985 - val_loss: 0.5533 - val_accuracy: 0.9726\n",
      "Epoch 17/5000\n",
      "42000/42000 [==============================] - 27s 644us/sample - loss: 0.0056 - accuracy: 0.9989 - val_loss: 0.4980 - val_accuracy: 0.9714\n",
      "Epoch 18/5000\n",
      "42000/42000 [==============================] - 27s 648us/sample - loss: 0.0062 - accuracy: 0.9990 - val_loss: 0.4559 - val_accuracy: 0.9727\n",
      "Epoch 19/5000\n",
      "42000/42000 [==============================] - 27s 650us/sample - loss: 0.0029 - accuracy: 0.9994 - val_loss: 0.5205 - val_accuracy: 0.9727\n",
      "Epoch 20/5000\n",
      "42000/42000 [==============================] - 27s 641us/sample - loss: 0.0033 - accuracy: 0.9991 - val_loss: 0.6283 - val_accuracy: 0.9699\n",
      "Epoch 21/5000\n",
      "42000/42000 [==============================] - 27s 653us/sample - loss: 0.0034 - accuracy: 0.9993 - val_loss: 0.5394 - val_accuracy: 0.9727\n",
      "Epoch 22/5000\n",
      "42000/42000 [==============================] - 27s 649us/sample - loss: 0.0041 - accuracy: 0.9993 - val_loss: 0.6556 - val_accuracy: 0.9723\n",
      "Epoch 23/5000\n",
      "42000/42000 [==============================] - 27s 648us/sample - loss: 0.0045 - accuracy: 0.9993 - val_loss: 0.6073 - val_accuracy: 0.9754\n",
      "Epoch 24/5000\n",
      "42000/42000 [==============================] - 27s 646us/sample - loss: 0.0027 - accuracy: 0.9995 - val_loss: 0.6452 - val_accuracy: 0.9744\n",
      "Epoch 25/5000\n",
      "42000/42000 [==============================] - 28s 656us/sample - loss: 0.0025 - accuracy: 0.9995 - val_loss: 0.7140 - val_accuracy: 0.9749\n",
      "Epoch 26/5000\n",
      "42000/42000 [==============================] - 27s 639us/sample - loss: 0.0034 - accuracy: 0.9996 - val_loss: 0.6741 - val_accuracy: 0.9744\n",
      "Epoch 27/5000\n",
      "42000/42000 [==============================] - 27s 646us/sample - loss: 0.0013 - accuracy: 0.9998 - val_loss: 0.7045 - val_accuracy: 0.9760\n",
      "Epoch 28/5000\n",
      "42000/42000 [==============================] - 27s 646us/sample - loss: 0.0015 - accuracy: 0.9998 - val_loss: 0.7832 - val_accuracy: 0.9750\n",
      "Epoch 29/5000\n",
      "42000/42000 [==============================] - 27s 646us/sample - loss: 9.1911e-04 - accuracy: 0.9998 - val_loss: 0.7087 - val_accuracy: 0.9738\n",
      "Epoch 30/5000\n",
      "42000/42000 [==============================] - 27s 648us/sample - loss: 0.0023 - accuracy: 0.9995 - val_loss: 0.6913 - val_accuracy: 0.9734\n",
      "Epoch 31/5000\n",
      "42000/42000 [==============================] - 27s 644us/sample - loss: 0.0011 - accuracy: 0.9998 - val_loss: 0.7069 - val_accuracy: 0.9746\n",
      "Epoch 32/5000\n",
      "42000/42000 [==============================] - 27s 642us/sample - loss: 0.0017 - accuracy: 0.9996 - val_loss: 0.7272 - val_accuracy: 0.9739\n",
      "Epoch 33/5000\n",
      "42000/42000 [==============================] - 27s 651us/sample - loss: 0.0017 - accuracy: 0.9996 - val_loss: 0.7531 - val_accuracy: 0.9737\n",
      "Epoch 34/5000\n",
      "42000/42000 [==============================] - 28s 656us/sample - loss: 5.5203e-04 - accuracy: 0.9999 - val_loss: 0.8752 - val_accuracy: 0.9719\n",
      "Epoch 35/5000\n",
      "42000/42000 [==============================] - 27s 638us/sample - loss: 0.0014 - accuracy: 0.9997 - val_loss: 0.8054 - val_accuracy: 0.9744\n",
      "Epoch 36/5000\n",
      "42000/42000 [==============================] - 27s 648us/sample - loss: 0.0010 - accuracy: 0.9998 - val_loss: 0.8779 - val_accuracy: 0.9740\n",
      "Epoch 37/5000\n",
      "42000/42000 [==============================] - 27s 640us/sample - loss: 0.0011 - accuracy: 0.9998 - val_loss: 0.9153 - val_accuracy: 0.9732\n",
      "Epoch 38/5000\n",
      "42000/42000 [==============================] - 27s 650us/sample - loss: 6.0614e-04 - accuracy: 0.9999 - val_loss: 0.9192 - val_accuracy: 0.9751\n",
      "Epoch 39/5000\n",
      "42000/42000 [==============================] - 27s 645us/sample - loss: 7.2127e-04 - accuracy: 0.9999 - val_loss: 0.9361 - val_accuracy: 0.9747\n",
      "Epoch 40/5000\n",
      "42000/42000 [==============================] - 27s 643us/sample - loss: 0.0017 - accuracy: 0.9998 - val_loss: 0.9292 - val_accuracy: 0.9751\n",
      "Epoch 41/5000\n",
      "42000/42000 [==============================] - 27s 640us/sample - loss: 0.0024 - accuracy: 0.9997 - val_loss: 1.0385 - val_accuracy: 0.9752\n",
      "Epoch 42/5000\n",
      "42000/42000 [==============================] - 27s 652us/sample - loss: 0.0020 - accuracy: 0.9996 - val_loss: 1.0718 - val_accuracy: 0.9729\n",
      "Epoch 43/5000\n",
      "42000/42000 [==============================] - 28s 657us/sample - loss: 0.0021 - accuracy: 0.9998 - val_loss: 0.9513 - val_accuracy: 0.9751\n",
      "Epoch 44/5000\n",
      "42000/42000 [==============================] - 27s 637us/sample - loss: 0.0011 - accuracy: 0.9999 - val_loss: 0.9911 - val_accuracy: 0.9746\n",
      "Epoch 45/5000\n",
      "42000/42000 [==============================] - 27s 652us/sample - loss: 2.6925e-05 - accuracy: 1.0000 - val_loss: 1.2203 - val_accuracy: 0.9736\n",
      "Epoch 46/5000\n",
      "42000/42000 [==============================] - 27s 647us/sample - loss: 0.0012 - accuracy: 0.9999 - val_loss: 0.9556 - val_accuracy: 0.9757\n",
      "Epoch 47/5000\n",
      "42000/42000 [==============================] - 27s 655us/sample - loss: 5.9453e-04 - accuracy: 0.9999 - val_loss: 0.9353 - val_accuracy: 0.9758\n",
      "Epoch 48/5000\n",
      "42000/42000 [==============================] - 28s 656us/sample - loss: 0.0017 - accuracy: 0.9998 - val_loss: 1.0179 - val_accuracy: 0.9735\n",
      "Epoch 49/5000\n",
      "42000/42000 [==============================] - 27s 652us/sample - loss: 5.0421e-04 - accuracy: 0.9999 - val_loss: 1.0522 - val_accuracy: 0.9747\n",
      "Epoch 50/5000\n",
      "42000/42000 [==============================] - 27s 642us/sample - loss: 0.0016 - accuracy: 0.9998 - val_loss: 1.0605 - val_accuracy: 0.9749\n",
      "Epoch 51/5000\n",
      "42000/42000 [==============================] - 27s 644us/sample - loss: 0.0011 - accuracy: 0.9999 - val_loss: 1.0570 - val_accuracy: 0.9752\n",
      "Epoch 52/5000\n",
      "42000/42000 [==============================] - 27s 649us/sample - loss: 9.0486e-04 - accuracy: 0.9999 - val_loss: 1.0794 - val_accuracy: 0.9744\n",
      "Epoch 53/5000\n",
      "42000/42000 [==============================] - 28s 677us/sample - loss: 6.8771e-04 - accuracy: 1.0000 - val_loss: 1.0998 - val_accuracy: 0.9748\n"
     ]
    },
    {
     "name": "stdout",
     "output_type": "stream",
     "text": [
      "Epoch 54/5000\n",
      "42000/42000 [==============================] - 27s 651us/sample - loss: 0.0018 - accuracy: 0.9999 - val_loss: 1.1579 - val_accuracy: 0.9752\n",
      "Epoch 55/5000\n",
      "42000/42000 [==============================] - 27s 648us/sample - loss: 4.9455e-04 - accuracy: 0.9999 - val_loss: 1.1466 - val_accuracy: 0.9740\n",
      "Epoch 56/5000\n",
      "42000/42000 [==============================] - 27s 651us/sample - loss: 5.1559e-05 - accuracy: 1.0000 - val_loss: 1.1791 - val_accuracy: 0.9748\n",
      "Epoch 57/5000\n",
      "42000/42000 [==============================] - 27s 646us/sample - loss: 0.0019 - accuracy: 0.9998 - val_loss: 1.0855 - val_accuracy: 0.9752\n",
      "Epoch 58/5000\n",
      "42000/42000 [==============================] - 27s 651us/sample - loss: 7.3248e-04 - accuracy: 0.9999 - val_loss: 1.1099 - val_accuracy: 0.9753\n",
      "Epoch 59/5000\n",
      "42000/42000 [==============================] - 27s 644us/sample - loss: 3.3477e-06 - accuracy: 1.0000 - val_loss: 1.1269 - val_accuracy: 0.9757\n",
      "Epoch 60/5000\n",
      "42000/42000 [==============================] - 27s 653us/sample - loss: 3.5771e-08 - accuracy: 1.0000 - val_loss: 1.1279 - val_accuracy: 0.9752\n",
      "Epoch 61/5000\n",
      "42000/42000 [==============================] - 27s 648us/sample - loss: 2.3246e-04 - accuracy: 1.0000 - val_loss: 1.1080 - val_accuracy: 0.9756\n",
      "Epoch 62/5000\n",
      "42000/42000 [==============================] - 27s 650us/sample - loss: 1.4493e-06 - accuracy: 1.0000 - val_loss: 1.1855 - val_accuracy: 0.9756\n",
      "Epoch 63/5000\n",
      "42000/42000 [==============================] - 27s 653us/sample - loss: 6.8167e-05 - accuracy: 1.0000 - val_loss: 1.1712 - val_accuracy: 0.9754\n",
      "Epoch 64/5000\n",
      "42000/42000 [==============================] - 28s 661us/sample - loss: 3.3833e-04 - accuracy: 0.9999 - val_loss: 1.1171 - val_accuracy: 0.9760\n",
      "Epoch 65/5000\n",
      "42000/42000 [==============================] - 28s 656us/sample - loss: 2.2447e-04 - accuracy: 1.0000 - val_loss: 1.1734 - val_accuracy: 0.9742\n",
      "Epoch 66/5000\n",
      "42000/42000 [==============================] - 28s 659us/sample - loss: 1.3352e-07 - accuracy: 1.0000 - val_loss: 1.1977 - val_accuracy: 0.9748\n",
      "Epoch 67/5000\n",
      "42000/42000 [==============================] - 28s 655us/sample - loss: 9.4473e-07 - accuracy: 1.0000 - val_loss: 1.1738 - val_accuracy: 0.9753\n",
      "Epoch 68/5000\n",
      "42000/42000 [==============================] - 27s 653us/sample - loss: 2.8383e-12 - accuracy: 1.0000 - val_loss: 1.2245 - val_accuracy: 0.9752\n",
      "Epoch 69/5000\n",
      "42000/42000 [==============================] - 28s 662us/sample - loss: 0.0000e+00 - accuracy: 1.0000 - val_loss: 1.2481 - val_accuracy: 0.9756\n",
      "Epoch 70/5000\n",
      "42000/42000 [==============================] - 27s 648us/sample - loss: 4.8899e-09 - accuracy: 1.0000 - val_loss: 1.2164 - val_accuracy: 0.9756\n",
      "Epoch 71/5000\n",
      "42000/42000 [==============================] - 27s 648us/sample - loss: 0.0000e+00 - accuracy: 1.0000 - val_loss: 1.2217 - val_accuracy: 0.9756\n",
      "Epoch 72/5000\n",
      "42000/42000 [==============================] - 27s 651us/sample - loss: 0.0000e+00 - accuracy: 1.0000 - val_loss: 1.2237 - val_accuracy: 0.9758\n",
      "Epoch 73/5000\n",
      "42000/42000 [==============================] - 88s 2ms/sample - loss: 0.0000e+00 - accuracy: 1.0000 - val_loss: 1.2257 - val_accuracy: 0.9758\n",
      "Epoch 74/5000\n",
      "42000/42000 [==============================] - 138s 3ms/sample - loss: 0.0000e+00 - accuracy: 1.0000 - val_loss: 1.2277 - val_accuracy: 0.9758\n",
      "Epoch 75/5000\n",
      "42000/42000 [==============================] - 355s 8ms/sample - loss: 0.0000e+00 - accuracy: 1.0000 - val_loss: 1.2298 - val_accuracy: 0.9758\n",
      "Epoch 76/5000\n",
      "42000/42000 [==============================] - 356s 8ms/sample - loss: 0.0000e+00 - accuracy: 1.0000 - val_loss: 1.2319 - val_accuracy: 0.9760\n",
      "Epoch 77/5000\n",
      "42000/42000 [==============================] - 237s 6ms/sample - loss: 0.0000e+00 - accuracy: 1.0000 - val_loss: 1.2341 - val_accuracy: 0.9760\n",
      "Epoch 78/5000\n",
      "42000/42000 [==============================] - 356s 8ms/sample - loss: 0.0000e+00 - accuracy: 1.0000 - val_loss: 1.2364 - val_accuracy: 0.9761\n",
      "Epoch 79/5000\n",
      "42000/42000 [==============================] - 351s 8ms/sample - loss: 0.0000e+00 - accuracy: 1.0000 - val_loss: 1.2387 - val_accuracy: 0.9760\n",
      "Epoch 80/5000\n",
      "42000/42000 [==============================] - 240s 6ms/sample - loss: 0.0000e+00 - accuracy: 1.0000 - val_loss: 1.2413 - val_accuracy: 0.9761\n",
      "Epoch 81/5000\n",
      "42000/42000 [==============================] - 355s 8ms/sample - loss: 0.0000e+00 - accuracy: 1.0000 - val_loss: 1.2443 - val_accuracy: 0.9761\n",
      "Epoch 82/5000\n",
      "42000/42000 [==============================] - 308s 7ms/sample - loss: 0.0000e+00 - accuracy: 1.0000 - val_loss: 1.2477 - val_accuracy: 0.9759\n",
      "Epoch 83/5000\n",
      "42000/42000 [==============================] - 290s 7ms/sample - loss: 0.0000e+00 - accuracy: 1.0000 - val_loss: 1.2515 - val_accuracy: 0.9758\n",
      "Epoch 84/5000\n",
      "42000/42000 [==============================] - 358s 9ms/sample - loss: 0.0000e+00 - accuracy: 1.0000 - val_loss: 1.2563 - val_accuracy: 0.9758\n",
      "Epoch 85/5000\n",
      "42000/42000 [==============================] - 258s 6ms/sample - loss: 0.0000e+00 - accuracy: 1.0000 - val_loss: 1.2625 - val_accuracy: 0.9760\n",
      "Epoch 86/5000\n",
      "42000/42000 [==============================] - 340s 8ms/sample - loss: 0.0000e+00 - accuracy: 1.0000 - val_loss: 1.2709 - val_accuracy: 0.9761\n",
      "Epoch 87/5000\n",
      "42000/42000 [==============================] - 360s 9ms/sample - loss: 0.0000e+00 - accuracy: 1.0000 - val_loss: 1.2872 - val_accuracy: 0.9760\n",
      "Epoch 88/5000\n",
      "42000/42000 [==============================] - 240s 6ms/sample - loss: 5.1657e-10 - accuracy: 1.0000 - val_loss: 1.3300 - val_accuracy: 0.9750\n",
      "Epoch 89/5000\n",
      "42000/42000 [==============================] - 354s 8ms/sample - loss: 3.5901e-06 - accuracy: 1.0000 - val_loss: 1.3007 - val_accuracy: 0.9751\n",
      "Epoch 90/5000\n",
      "42000/42000 [==============================] - 354s 8ms/sample - loss: 3.7986e-04 - accuracy: 1.0000 - val_loss: 1.3709 - val_accuracy: 0.9736\n",
      "Epoch 91/5000\n",
      "42000/42000 [==============================] - 240s 6ms/sample - loss: 6.2058e-07 - accuracy: 1.0000 - val_loss: 1.3974 - val_accuracy: 0.9746\n",
      "Epoch 92/5000\n",
      "42000/42000 [==============================] - 356s 8ms/sample - loss: 3.7465e-04 - accuracy: 0.9999 - val_loss: 1.2884 - val_accuracy: 0.9762\n",
      "Epoch 93/5000\n",
      "42000/42000 [==============================] - 372s 9ms/sample - loss: 3.6255e-04 - accuracy: 0.9999 - val_loss: 1.3782 - val_accuracy: 0.9746\n",
      "Epoch 94/5000\n",
      "42000/42000 [==============================] - 240s 6ms/sample - loss: 4.7546e-04 - accuracy: 0.9999 - val_loss: 1.3312 - val_accuracy: 0.9751\n",
      "Epoch 95/5000\n",
      "42000/42000 [==============================] - 358s 9ms/sample - loss: 9.5028e-05 - accuracy: 1.0000 - val_loss: 1.3543 - val_accuracy: 0.9744\n",
      "Epoch 96/5000\n",
      "42000/42000 [==============================] - 356s 8ms/sample - loss: 1.9154e-04 - accuracy: 1.0000 - val_loss: 1.3199 - val_accuracy: 0.9750\n",
      "Epoch 97/5000\n",
      "42000/42000 [==============================] - 238s 6ms/sample - loss: 2.9943e-04 - accuracy: 1.0000 - val_loss: 1.3339 - val_accuracy: 0.9747\n",
      "Epoch 98/5000\n",
      "42000/42000 [==============================] - 358s 9ms/sample - loss: 6.2692e-04 - accuracy: 0.9999 - val_loss: 1.3157 - val_accuracy: 0.9748\n",
      "Epoch 99/5000\n",
      "42000/42000 [==============================] - 328s 8ms/sample - loss: 2.9195e-04 - accuracy: 1.0000 - val_loss: 1.2748 - val_accuracy: 0.9742\n",
      "Epoch 100/5000\n",
      "42000/42000 [==============================] - 268s 6ms/sample - loss: 0.0016 - accuracy: 0.9998 - val_loss: 1.3067 - val_accuracy: 0.9752\n",
      "Epoch 101/5000\n",
      "42000/42000 [==============================] - 358s 9ms/sample - loss: 1.4091e-04 - accuracy: 1.0000 - val_loss: 1.3561 - val_accuracy: 0.9750\n",
      "Epoch 102/5000\n",
      "42000/42000 [==============================] - 278s 7ms/sample - loss: 0.0016 - accuracy: 1.0000 - val_loss: 1.2476 - val_accuracy: 0.9753\n",
      "Epoch 103/5000\n",
      "42000/42000 [==============================] - 318s 8ms/sample - loss: 3.7517e-06 - accuracy: 1.0000 - val_loss: 1.3056 - val_accuracy: 0.9757\n",
      "Epoch 00103: early stopping\n",
      "CPU times: user 2h 52min 1s, sys: 60 s, total: 2h 53min 1s\n",
      "Wall time: 3h 9min 33s\n"
     ]
    }
   ],
   "source": [
    "%%time\n",
    "# 学習を実施し、結果をlogで受け取る。EarlyStoppingを使用する\n",
    "log = model.fit(X_train2, Y_train2, epochs=5000, batch_size=32, verbose=True,\n",
    "                callbacks=[keras.callbacks.EarlyStopping(monitor='val_loss',\n",
    "                                                         min_delta=0, patience=100,\n",
    "                                                         verbose=1)],\n",
    "                validation_data=(X_valid2, Y_valid2))"
   ]
  },
  {
   "cell_type": "code",
   "execution_count": 24,
   "metadata": {
    "colab": {
     "base_uri": "https://localhost:8080/",
     "height": 279
    },
    "colab_type": "code",
    "id": "Zp76NioRJDlY",
    "outputId": "d2e98b53-6e98-4de1-ceb9-98ae37d8c2fc"
   },
   "outputs": [
    {
     "data": {
      "image/png": "[encoded data removed]",
      "text/plain": [
       "<Figure size 432x288 with 1 Axes>"
      ]
     },
     "metadata": {
      "needs_background": "light"
     },
     "output_type": "display_data"
    }
   ],
   "source": [
    "# 学習の課程をグラフで表示する\n",
    "plt.plot(log.history['loss'], label='loss')\n",
    "plt.plot(log.history['val_loss'], label='val_loss')\n",
    "plt.legend(frameon=False) # 凡例の表示\n",
    "plt.xlabel('epochs')\n",
    "plt.ylabel('crossentropy')\n",
    "plt.show()"
   ]
  },
  {
   "cell_type": "markdown",
   "metadata": {
    "colab_type": "text",
    "id": "KEGrRWLZS017"
   },
   "source": [
    "## 6. テストデータによる評価"
   ]
  },
  {
   "cell_type": "code",
   "execution_count": 25,
   "metadata": {},
   "outputs": [],
   "source": [
    "# 環境により、そのままX_test2を使うとエラーになる対策(float型に変換)\n",
    "X_test2 = X_test2 * 1.0"
   ]
  },
  {
   "cell_type": "code",
   "execution_count": 26,
   "metadata": {
    "colab": {},
    "colab_type": "code",
    "id": "L6ydONrPSvLp"
   },
   "outputs": [],
   "source": [
    "# predict_classesを使い、X_test2をもとに予測した結果をY_pred2に代入\n",
    "Y_pred2 = model.predict_classes(X_test2)\n"
   ]
  },
  {
   "cell_type": "code",
   "execution_count": 27,
   "metadata": {
    "colab": {},
    "colab_type": "code",
    "id": "t8br5NzmTBiP"
   },
   "outputs": [],
   "source": [
    "# カテゴリー変数Y_test2を復元してY_test2_に代入\n",
    "Y_test2_ = np.argmax(Y_test2, axis=1)\n"
   ]
  },
  {
   "cell_type": "code",
   "execution_count": 28,
   "metadata": {
    "colab": {
     "base_uri": "https://localhost:8080/",
     "height": 306
    },
    "colab_type": "code",
    "id": "y-ZwvjL2TGup",
    "outputId": "32f306f1-8478-4a44-d47e-4a7a6f811993"
   },
   "outputs": [
    {
     "name": "stdout",
     "output_type": "stream",
     "text": [
      "              precision    recall  f1-score   support\n",
      "\n",
      "           0       0.97      0.99      0.98       980\n",
      "           1       0.98      0.99      0.99      1135\n",
      "           2       0.97      0.98      0.97      1032\n",
      "           3       0.98      0.98      0.98      1010\n",
      "           4       0.98      0.97      0.98       982\n",
      "           5       0.98      0.97      0.97       892\n",
      "           6       0.99      0.97      0.98       958\n",
      "           7       0.98      0.96      0.97      1028\n",
      "           8       0.96      0.97      0.97       974\n",
      "           9       0.97      0.96      0.96      1009\n",
      "\n",
      "    accuracy                           0.98     10000\n",
      "   macro avg       0.98      0.98      0.98     10000\n",
      "weighted avg       0.98      0.98      0.98     10000\n",
      "\n"
     ]
    }
   ],
   "source": [
    "# classification_reportを使い、モデルの評価を実施\n",
    "from sklearn.metrics import classification_report\n",
    "\n",
    "print(classification_report(Y_test2_, Y_pred2))"
   ]
  },
  {
   "cell_type": "code",
   "execution_count": null,
   "metadata": {},
   "outputs": [],
   "source": []
  }
 ],
 "metadata": {
  "accelerator": "GPU",
  "celltoolbar": "Raw Cell Format",
  "colab": {
   "collapsed_sections": [],
   "name": "Assignment6_answered.ipynb",
   "provenance": []
  },
  "kernelspec": {
   "display_name": "Python 3",
   "language": "python",
   "name": "python3"
  },
  "language_info": {
   "codemirror_mode": {
    "name": "ipython",
    "version": 3
   },
   "file_extension": ".py",
   "mimetype": "text/x-python",
   "name": "python",
   "nbconvert_exporter": "python",
   "pygments_lexer": "ipython3",
   "version": "3.7.5"
  }
 },
 "nbformat": 4,
 "nbformat_minor": 1
}

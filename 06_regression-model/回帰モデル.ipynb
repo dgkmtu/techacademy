{
 "cells": [
  {
   "cell_type": "code",
   "execution_count": 1,
   "metadata": {},
   "outputs": [],
   "source": [
    "import numpy as np\n",
    "import matplotlib.pyplot as plt\n",
    "import pandas as pd\n",
    "\n",
    "# JupyterNotebook上でグラフを表示する\n",
    "%matplotlib inline\n",
    "# DataFrameですべての列を表示する\n",
    "pd.options.display.max_columns = None"
   ]
  },
  {
   "cell_type": "code",
   "execution_count": 2,
   "metadata": {
    "scrolled": true
   },
   "outputs": [
    {
     "data": {
      "text/html": [
       "<div>\n",
       "<style scoped>\n",
       "    .dataframe tbody tr th:only-of-type {\n",
       "        vertical-align: middle;\n",
       "    }\n",
       "\n",
       "    .dataframe tbody tr th {\n",
       "        vertical-align: top;\n",
       "    }\n",
       "\n",
       "    .dataframe thead th {\n",
       "        text-align: right;\n",
       "    }\n",
       "</style>\n",
       "<table border=\"1\" class=\"dataframe\">\n",
       "  <thead>\n",
       "    <tr style=\"text-align: right;\">\n",
       "      <th></th>\n",
       "      <th>球団</th>\n",
       "      <th>推定年俸</th>\n",
       "      <th>守備</th>\n",
       "      <th>年数</th>\n",
       "      <th>年齢</th>\n",
       "      <th>身長</th>\n",
       "      <th>体重</th>\n",
       "      <th>血液型</th>\n",
       "      <th>投打</th>\n",
       "      <th>年</th>\n",
       "      <th>打率</th>\n",
       "      <th>試合</th>\n",
       "      <th>打席数</th>\n",
       "      <th>打数</th>\n",
       "      <th>安打</th>\n",
       "      <th>本塁打</th>\n",
       "      <th>打点</th>\n",
       "      <th>盗塁</th>\n",
       "      <th>四球</th>\n",
       "      <th>死球</th>\n",
       "      <th>三振</th>\n",
       "      <th>犠打</th>\n",
       "      <th>併殺打</th>\n",
       "      <th>出塁率</th>\n",
       "      <th>長打率</th>\n",
       "      <th>OPS</th>\n",
       "      <th>RC27</th>\n",
       "      <th>XR27</th>\n",
       "      <th>球団勝率</th>\n",
       "      <th>プレーオフ</th>\n",
       "      <th>球団平均得点</th>\n",
       "      <th>球団打率</th>\n",
       "    </tr>\n",
       "  </thead>\n",
       "  <tbody>\n",
       "    <tr>\n",
       "      <th>0</th>\n",
       "      <td>c</td>\n",
       "      <td>21000</td>\n",
       "      <td>外野手</td>\n",
       "      <td>11</td>\n",
       "      <td>29</td>\n",
       "      <td>177</td>\n",
       "      <td>90</td>\n",
       "      <td>AB型</td>\n",
       "      <td>右左</td>\n",
       "      <td>2017</td>\n",
       "      <td>0.308</td>\n",
       "      <td>143</td>\n",
       "      <td>651</td>\n",
       "      <td>556</td>\n",
       "      <td>171</td>\n",
       "      <td>23</td>\n",
       "      <td>92</td>\n",
       "      <td>13</td>\n",
       "      <td>83</td>\n",
       "      <td>4</td>\n",
       "      <td>113</td>\n",
       "      <td>2</td>\n",
       "      <td>6</td>\n",
       "      <td>0.398</td>\n",
       "      <td>0.505</td>\n",
       "      <td>0.903</td>\n",
       "      <td>7.70</td>\n",
       "      <td>7.52</td>\n",
       "      <td>0.633</td>\n",
       "      <td>2</td>\n",
       "      <td>5.15</td>\n",
       "      <td>0.273</td>\n",
       "    </tr>\n",
       "    <tr>\n",
       "      <th>1</th>\n",
       "      <td>c</td>\n",
       "      <td>19000</td>\n",
       "      <td>内野手</td>\n",
       "      <td>7</td>\n",
       "      <td>28</td>\n",
       "      <td>171</td>\n",
       "      <td>72</td>\n",
       "      <td>A型</td>\n",
       "      <td>右右</td>\n",
       "      <td>2017</td>\n",
       "      <td>0.271</td>\n",
       "      <td>138</td>\n",
       "      <td>629</td>\n",
       "      <td>565</td>\n",
       "      <td>153</td>\n",
       "      <td>14</td>\n",
       "      <td>56</td>\n",
       "      <td>8</td>\n",
       "      <td>32</td>\n",
       "      <td>1</td>\n",
       "      <td>107</td>\n",
       "      <td>30</td>\n",
       "      <td>9</td>\n",
       "      <td>0.311</td>\n",
       "      <td>0.405</td>\n",
       "      <td>0.716</td>\n",
       "      <td>4.10</td>\n",
       "      <td>4.01</td>\n",
       "      <td>0.633</td>\n",
       "      <td>2</td>\n",
       "      <td>5.15</td>\n",
       "      <td>0.273</td>\n",
       "    </tr>\n",
       "    <tr>\n",
       "      <th>2</th>\n",
       "      <td>c</td>\n",
       "      <td>14000</td>\n",
       "      <td>内野手</td>\n",
       "      <td>5</td>\n",
       "      <td>29</td>\n",
       "      <td>171</td>\n",
       "      <td>85</td>\n",
       "      <td>A型</td>\n",
       "      <td>右左</td>\n",
       "      <td>2017</td>\n",
       "      <td>0.290</td>\n",
       "      <td>143</td>\n",
       "      <td>679</td>\n",
       "      <td>565</td>\n",
       "      <td>164</td>\n",
       "      <td>8</td>\n",
       "      <td>60</td>\n",
       "      <td>35</td>\n",
       "      <td>89</td>\n",
       "      <td>15</td>\n",
       "      <td>120</td>\n",
       "      <td>6</td>\n",
       "      <td>5</td>\n",
       "      <td>0.398</td>\n",
       "      <td>0.407</td>\n",
       "      <td>0.805</td>\n",
       "      <td>6.41</td>\n",
       "      <td>6.26</td>\n",
       "      <td>0.633</td>\n",
       "      <td>2</td>\n",
       "      <td>5.15</td>\n",
       "      <td>0.273</td>\n",
       "    </tr>\n",
       "    <tr>\n",
       "      <th>3</th>\n",
       "      <td>c</td>\n",
       "      <td>11500</td>\n",
       "      <td>内野手</td>\n",
       "      <td>7</td>\n",
       "      <td>38</td>\n",
       "      <td>196</td>\n",
       "      <td>126</td>\n",
       "      <td>不明</td>\n",
       "      <td>右右</td>\n",
       "      <td>2017</td>\n",
       "      <td>0.265</td>\n",
       "      <td>116</td>\n",
       "      <td>405</td>\n",
       "      <td>344</td>\n",
       "      <td>91</td>\n",
       "      <td>27</td>\n",
       "      <td>78</td>\n",
       "      <td>0</td>\n",
       "      <td>50</td>\n",
       "      <td>8</td>\n",
       "      <td>111</td>\n",
       "      <td>0</td>\n",
       "      <td>8</td>\n",
       "      <td>0.368</td>\n",
       "      <td>0.532</td>\n",
       "      <td>0.900</td>\n",
       "      <td>6.80</td>\n",
       "      <td>6.90</td>\n",
       "      <td>0.633</td>\n",
       "      <td>2</td>\n",
       "      <td>5.15</td>\n",
       "      <td>0.273</td>\n",
       "    </tr>\n",
       "    <tr>\n",
       "      <th>4</th>\n",
       "      <td>c</td>\n",
       "      <td>11000</td>\n",
       "      <td>内野手</td>\n",
       "      <td>20</td>\n",
       "      <td>41</td>\n",
       "      <td>189</td>\n",
       "      <td>102</td>\n",
       "      <td>B型</td>\n",
       "      <td>右右</td>\n",
       "      <td>2017</td>\n",
       "      <td>0.292</td>\n",
       "      <td>100</td>\n",
       "      <td>288</td>\n",
       "      <td>243</td>\n",
       "      <td>71</td>\n",
       "      <td>9</td>\n",
       "      <td>48</td>\n",
       "      <td>2</td>\n",
       "      <td>40</td>\n",
       "      <td>1</td>\n",
       "      <td>56</td>\n",
       "      <td>0</td>\n",
       "      <td>7</td>\n",
       "      <td>0.389</td>\n",
       "      <td>0.461</td>\n",
       "      <td>0.850</td>\n",
       "      <td>6.55</td>\n",
       "      <td>6.54</td>\n",
       "      <td>0.633</td>\n",
       "      <td>2</td>\n",
       "      <td>5.15</td>\n",
       "      <td>0.273</td>\n",
       "    </tr>\n",
       "  </tbody>\n",
       "</table>\n",
       "</div>"
      ],
      "text/plain": [
       "  球団   推定年俸   守備  年数  年齢   身長   体重  血液型  投打     年     打率   試合  打席数   打数   安打  \\\n",
       "0  c  21000  外野手  11  29  177   90  AB型  右左  2017  0.308  143  651  556  171   \n",
       "1  c  19000  内野手   7  28  171   72   A型  右右  2017  0.271  138  629  565  153   \n",
       "2  c  14000  内野手   5  29  171   85   A型  右左  2017  0.290  143  679  565  164   \n",
       "3  c  11500  内野手   7  38  196  126   不明  右右  2017  0.265  116  405  344   91   \n",
       "4  c  11000  内野手  20  41  189  102   B型  右右  2017  0.292  100  288  243   71   \n",
       "\n",
       "   本塁打  打点  盗塁  四球  死球   三振  犠打  併殺打    出塁率    長打率    OPS  RC27  XR27   球団勝率  \\\n",
       "0   23  92  13  83   4  113   2    6  0.398  0.505  0.903  7.70  7.52  0.633   \n",
       "1   14  56   8  32   1  107  30    9  0.311  0.405  0.716  4.10  4.01  0.633   \n",
       "2    8  60  35  89  15  120   6    5  0.398  0.407  0.805  6.41  6.26  0.633   \n",
       "3   27  78   0  50   8  111   0    8  0.368  0.532  0.900  6.80  6.90  0.633   \n",
       "4    9  48   2  40   1   56   0    7  0.389  0.461  0.850  6.55  6.54  0.633   \n",
       "\n",
       "   プレーオフ  球団平均得点   球団打率  \n",
       "0      2    5.15  0.273  \n",
       "1      2    5.15  0.273  \n",
       "2      2    5.15  0.273  \n",
       "3      2    5.15  0.273  \n",
       "4      2    5.15  0.273  "
      ]
     },
     "execution_count": 2,
     "metadata": {},
     "output_type": "execute_result"
    }
   ],
   "source": [
    "dataset_base = pd.read_csv(\"baseball_salary.csv\")\n",
    "dataset_base.head()"
   ]
  },
  {
   "cell_type": "code",
   "execution_count": 3,
   "metadata": {},
   "outputs": [
    {
     "data": {
      "text/html": [
       "<div>\n",
       "<style scoped>\n",
       "    .dataframe tbody tr th:only-of-type {\n",
       "        vertical-align: middle;\n",
       "    }\n",
       "\n",
       "    .dataframe tbody tr th {\n",
       "        vertical-align: top;\n",
       "    }\n",
       "\n",
       "    .dataframe thead th {\n",
       "        text-align: right;\n",
       "    }\n",
       "</style>\n",
       "<table border=\"1\" class=\"dataframe\">\n",
       "  <thead>\n",
       "    <tr style=\"text-align: right;\">\n",
       "      <th></th>\n",
       "      <th>salary</th>\n",
       "      <th>points</th>\n",
       "      <th>years_exp</th>\n",
       "      <th>batting</th>\n",
       "      <th>homerun</th>\n",
       "      <th>team_win</th>\n",
       "    </tr>\n",
       "  </thead>\n",
       "  <tbody>\n",
       "    <tr>\n",
       "      <th>0</th>\n",
       "      <td>21000</td>\n",
       "      <td>92</td>\n",
       "      <td>11</td>\n",
       "      <td>0.308</td>\n",
       "      <td>23</td>\n",
       "      <td>0.633</td>\n",
       "    </tr>\n",
       "    <tr>\n",
       "      <th>1</th>\n",
       "      <td>19000</td>\n",
       "      <td>56</td>\n",
       "      <td>7</td>\n",
       "      <td>0.271</td>\n",
       "      <td>14</td>\n",
       "      <td>0.633</td>\n",
       "    </tr>\n",
       "    <tr>\n",
       "      <th>2</th>\n",
       "      <td>14000</td>\n",
       "      <td>60</td>\n",
       "      <td>5</td>\n",
       "      <td>0.290</td>\n",
       "      <td>8</td>\n",
       "      <td>0.633</td>\n",
       "    </tr>\n",
       "    <tr>\n",
       "      <th>3</th>\n",
       "      <td>11500</td>\n",
       "      <td>78</td>\n",
       "      <td>7</td>\n",
       "      <td>0.265</td>\n",
       "      <td>27</td>\n",
       "      <td>0.633</td>\n",
       "    </tr>\n",
       "    <tr>\n",
       "      <th>4</th>\n",
       "      <td>11000</td>\n",
       "      <td>48</td>\n",
       "      <td>20</td>\n",
       "      <td>0.292</td>\n",
       "      <td>9</td>\n",
       "      <td>0.633</td>\n",
       "    </tr>\n",
       "  </tbody>\n",
       "</table>\n",
       "</div>"
      ],
      "text/plain": [
       "   salary  points  years_exp  batting  homerun  team_win\n",
       "0   21000      92         11    0.308       23     0.633\n",
       "1   19000      56          7    0.271       14     0.633\n",
       "2   14000      60          5    0.290        8     0.633\n",
       "3   11500      78          7    0.265       27     0.633\n",
       "4   11000      48         20    0.292        9     0.633"
      ]
     },
     "execution_count": 3,
     "metadata": {},
     "output_type": "execute_result"
    }
   ],
   "source": [
    "#分析に必要な項目を抜き出してリネーム\n",
    "dataset = dataset_base[[\"推定年俸\", \"打点\", \"年数\", \"打率\", \"本塁打\", \"球団勝率\"]]\n",
    "\n",
    "#列名をリネームする\n",
    "dataset = dataset.rename(columns={\"推定年俸\":\"salary\", \"打点\":\"points\", \"年数\":\"years_exp\",\\\n",
    "                                 \"打率\":\"batting\", \"本塁打\":\"homerun\", \"球団勝率\":\"team_win\"})\n",
    "\n",
    "dataset.head()"
   ]
  },
  {
   "cell_type": "code",
   "execution_count": 4,
   "metadata": {},
   "outputs": [
    {
     "data": {
      "text/plain": [
       "<matplotlib.axes._subplots.AxesSubplot at 0x7f1c6d761b38>"
      ]
     },
     "execution_count": 4,
     "metadata": {},
     "output_type": "execute_result"
    },
    {
     "data": {
      "image/png": "[encoded data removed]",
      "text/plain": [
       "<Figure size 432x288 with 1 Axes>"
      ]
     },
     "metadata": {
      "needs_background": "light"
     },
     "output_type": "display_data"
    }
   ],
   "source": [
    "dataset.plot(kind=\"scatter\", x=\"points\", y=\"salary\")"
   ]
  },
  {
   "cell_type": "code",
   "execution_count": 5,
   "metadata": {},
   "outputs": [],
   "source": [
    "from sklearn.model_selection import train_test_split\n",
    "from sklearn.linear_model import LinearRegression\n",
    "from sklearn.metrics import mean_squared_error"
   ]
  },
  {
   "cell_type": "code",
   "execution_count": 6,
   "metadata": {},
   "outputs": [],
   "source": [
    "# 目的変数(Y)：推定年俸、説明変数(X)：打点\n",
    "Y = np.array(dataset[\"salary\"])\n",
    "X = np.array(dataset[[\"points\"]])"
   ]
  },
  {
   "cell_type": "code",
   "execution_count": 7,
   "metadata": {},
   "outputs": [
    {
     "name": "stdout",
     "output_type": "stream",
     "text": [
      "Y= (241,) , X= (241, 1)\n"
     ]
    }
   ],
   "source": [
    "print(\"Y=\", Y.shape, \", X=\", X.shape)"
   ]
  },
  {
   "cell_type": "code",
   "execution_count": 8,
   "metadata": {},
   "outputs": [],
   "source": [
    "# XとYを機械学習用データ(train)とテストデータ(test)に7:3に分ける\n",
    "X_train, X_test, Y_train, Y_test = train_test_split(X, Y, test_size=0.3, random_state=0)\n",
    "# Trainをさらに学習データ(train)と検証データ(valid)に7:3に分ける\n",
    "X_train, X_valid, Y_train, Y_valid = train_test_split(X_train, Y_train, test_size=0.3, random_state=0)"
   ]
  },
  {
   "cell_type": "code",
   "execution_count": 9,
   "metadata": {},
   "outputs": [
    {
     "name": "stdout",
     "output_type": "stream",
     "text": [
      "Y_train= (117,) , X_train= (117, 1)\n",
      "Y_valid= (51,) , X_train= (51, 1)\n",
      "Y_test= (73,) , X_test (73, 1)\n"
     ]
    }
   ],
   "source": [
    "# 形状を確認\n",
    "print(\"Y_train=\", Y_train.shape, \", X_train=\", X_train.shape)\n",
    "print(\"Y_valid=\", Y_valid.shape, \", X_train=\", X_valid.shape)\n",
    "print(\"Y_test=\", Y_test.shape, \", X_test\", X_test.shape)"
   ]
  },
  {
   "cell_type": "code",
   "execution_count": 10,
   "metadata": {},
   "outputs": [
    {
     "data": {
      "text/plain": [
       "LinearRegression(copy_X=True, fit_intercept=True, n_jobs=1, normalize=False)"
      ]
     },
     "execution_count": 10,
     "metadata": {},
     "output_type": "execute_result"
    }
   ],
   "source": [
    "# 線形回帰モデル\n",
    "linear_model = LinearRegression()\n",
    "# 学習はfit\n",
    "linear_model.fit(X_train, Y_train)"
   ]
  },
  {
   "cell_type": "code",
   "execution_count": 11,
   "metadata": {},
   "outputs": [
    {
     "data": {
      "text/plain": [
       "LinearRegression(copy_X=True, fit_intercept=True, n_jobs=None,\n",
       "         normalize=False)"
      ]
     },
     "execution_count": 11,
     "metadata": {},
     "output_type": "execute_result"
    }
   ],
   "source": [
    "LinearRegression(copy_X=True, fit_intercept=True, n_jobs=None, normalize=False)"
   ]
  },
  {
   "cell_type": "code",
   "execution_count": 12,
   "metadata": {},
   "outputs": [],
   "source": [
    "Y_pred = linear_model.predict(X_valid)"
   ]
  },
  {
   "cell_type": "code",
   "execution_count": 13,
   "metadata": {},
   "outputs": [
    {
     "name": "stdout",
     "output_type": "stream",
     "text": [
      "[1140 5400 5700 1650 3100]\n",
      "[ 470.34255761 8918.81501551 9415.78398362 2955.18739817 5688.51672278]\n"
     ]
    }
   ],
   "source": [
    "print(Y_valid[:5])\n",
    "print(Y_pred[:5])"
   ]
  },
  {
   "cell_type": "code",
   "execution_count": 14,
   "metadata": {},
   "outputs": [
    {
     "name": "stdout",
     "output_type": "stream",
     "text": [
      "MSE(1変数の線形回帰モデル): 66838239.72825806\n"
     ]
    }
   ],
   "source": [
    "# 平均二乗誤差を算出\n",
    "linear_model_mse = mean_squared_error(Y_valid, Y_pred)\n",
    "print(\"MSE(1変数の線形回帰モデル):\", linear_model_mse)"
   ]
  },
  {
   "cell_type": "code",
   "execution_count": 15,
   "metadata": {},
   "outputs": [
    {
     "name": "stdout",
     "output_type": "stream",
     "text": [
      "p0: 470.3425576073523 , p1: 248.484484056025\n"
     ]
    }
   ],
   "source": [
    "# interceptは切片という意味\n",
    "p0 = linear_model.intercept_\n",
    "# coefは係数という意味\n",
    "p1 = linear_model.coef_[0]\n",
    "\n",
    "print(\"p0:\", p0, \", p1:\", p1)"
   ]
  },
  {
   "cell_type": "code",
   "execution_count": 16,
   "metadata": {},
   "outputs": [
    {
     "data": {
      "image/png": "[encoded data removed]",
      "text/plain": [
       "<Figure size 432x288 with 1 Axes>"
      ]
     },
     "metadata": {
      "needs_background": "light"
     },
     "output_type": "display_data"
    }
   ],
   "source": [
    "def calc(x):\n",
    "    return p0 + p1 * x\n",
    "\n",
    "# 打点(X)の最小値～最大値の範囲で値を100個作成してリストに格納する\n",
    "X_simu = np.linspace(X.min(), X.max(), 100)\n",
    "# パラメータを使った１次関数による値\n",
    "Y_simu = calc(X_simu)\n",
    "# 線形モデルによる予測値\n",
    "Y_prd2 = linear_model.predict(X_simu.reshape(-1,1))\n",
    "\n",
    "# １次関数：赤い点線、予測値：オレンジ、実際の値：青い散布図\n",
    "plt.plot(X_simu, Y_prd2, color=\"orange\", linewidth=8)\n",
    "plt.plot(X_simu, Y_simu, color=\"darkred\", linewidth=1, linestyle=\"dashed\")\n",
    "plt.scatter(X, Y)\n",
    "plt.show()"
   ]
  },
  {
   "cell_type": "code",
   "execution_count": 17,
   "metadata": {},
   "outputs": [
    {
     "name": "stdout",
     "output_type": "stream",
     "text": [
      "[21000 19000 14000 11500 11000]\n",
      "[4.32221929 4.2787536  4.14612804 4.06069784 4.04139269]\n"
     ]
    }
   ],
   "source": [
    "# 推定年俸の対数\n",
    "Y_log = np.log10(Y)\n",
    "\n",
    "# 推定年俸と対数の比較\n",
    "print(Y[:5])\n",
    "print(Y_log[:5])"
   ]
  },
  {
   "cell_type": "code",
   "execution_count": 18,
   "metadata": {},
   "outputs": [],
   "source": [
    "X_train, X_test, Y_train, Y_test = train_test_split(X, Y_log, test_size=0.3, random_state=0)\n",
    "X_train, X_valid, Y_train, Y_valid = train_test_split(X_train, Y_train, test_size=0.3, random_state=0)\n",
    "\n",
    "# モデルの作成、予測\n",
    "log_model = LinearRegression()\n",
    "log_model.fit(X_train, Y_train)\n",
    "Y_pred = log_model.predict(X_valid)"
   ]
  },
  {
   "cell_type": "code",
   "execution_count": 19,
   "metadata": {},
   "outputs": [
    {
     "name": "stdout",
     "output_type": "stream",
     "text": [
      "MSE(1変数の線形回帰モデル～対数版)： 76734989.36897755\n"
     ]
    }
   ],
   "source": [
    "# 対数から金額に戻す\n",
    "Y_valid_org = np.power(10, Y_valid)\n",
    "Y_pred_org = np.power(10, Y_pred)\n",
    "\n",
    "# MSEを算出\n",
    "log_model_mse = mean_squared_error(Y_valid_org, Y_pred_org)\n",
    "print(\"MSE(1変数の線形回帰モデル～対数版)：\", log_model_mse)"
   ]
  },
  {
   "cell_type": "code",
   "execution_count": 20,
   "metadata": {
    "scrolled": true
   },
   "outputs": [
    {
     "data": {
      "image/png": "[encoded data removed]",
      "text/plain": [
       "<Figure size 432x288 with 1 Axes>"
      ]
     },
     "metadata": {
      "needs_background": "light"
     },
     "output_type": "display_data"
    }
   ],
   "source": [
    "# 打点(X)の最小値～最大値の範囲で値を100個作成してリストに格納する\n",
    "X_simu = np.linspace(X.min(), X.max(), 100)\n",
    "\n",
    "# 線形回帰モデルによる予測値\n",
    "Y_prd1 = linear_model.predict(X_simu.reshape(-1, 1))\n",
    "# 線形回帰モデル（対数版）による予測値\n",
    "Y_prd2 = log_model.predict(X_simu.reshape(-1, 1))\n",
    "Y_prd2 = np.power(10, Y_prd2)\n",
    "\n",
    "# 1次関数：赤い点線、予測値：オレンジ、実際の値：青い散布図\n",
    "plt.plot(X_simu, Y_prd1, color=\"darkred\", linewidth=1, linestyle=\"dashed\")\n",
    "plt.plot(X_simu, Y_prd2, color=\"green\", linewidth=4, linestyle=\"solid\")\n",
    "plt.scatter(X, Y)\n",
    "plt.show()"
   ]
  },
  {
   "cell_type": "code",
   "execution_count": 21,
   "metadata": {},
   "outputs": [
    {
     "name": "stdout",
     "output_type": "stream",
     "text": [
      "Y= (241,) , X2= (241, 5)\n"
     ]
    }
   ],
   "source": [
    "# 以下の操作用に１次元配列に変換する\n",
    "X2 = X.reshape(-1)\n",
    "\n",
    "# pointsの2～5乗を新たな説明変数として追加\n",
    "# axis:結合する次元を指定。1は列\n",
    "X2 = np.stack([X2, X2**2, X2**3, X2**4, X2**5], axis=1)\n",
    "\n",
    "# 形状を確認\n",
    "print(\"Y=\", Y.shape, \", X2=\", X2.shape)"
   ]
  },
  {
   "cell_type": "code",
   "execution_count": 22,
   "metadata": {},
   "outputs": [
    {
     "name": "stdout",
     "output_type": "stream",
     "text": [
      "MSE(多項式モデル)： 66191889.04353648\n"
     ]
    }
   ],
   "source": [
    "# データセットの分割。X2を使っていることに注意\n",
    "X_train, X_test, Y_train, Y_test = train_test_split(X2, Y, test_size=0.3, random_state=0)\n",
    "X_train, X_valid, Y_train, Y_valid = train_test_split(X_train, Y_train, test_size=0.3, random_state=0)\n",
    "\n",
    "# モデルの作成～予測\n",
    "linear_model2 = LinearRegression()\n",
    "linear_model2.fit(X_train, Y_train)\n",
    "Y_pred = linear_model2.predict(X_valid)\n",
    "\n",
    "# MSEを算出\n",
    "linear_model2_mse = mean_squared_error(Y_valid, Y_pred)\n",
    "print(\"MSE(多項式モデル)：\", linear_model2_mse)"
   ]
  },
  {
   "cell_type": "code",
   "execution_count": 23,
   "metadata": {},
   "outputs": [
    {
     "data": {
      "image/png": "[encoded data removed]",
      "text/plain": [
       "<Figure size 432x288 with 1 Axes>"
      ]
     },
     "metadata": {
      "needs_background": "light"
     },
     "output_type": "display_data"
    }
   ],
   "source": [
    "# 打点（X）の最小値～最大値の範囲で値を１００個作成してリストに格納する\n",
    "X_simu = np.linspace(X.min(), X.max(), 100)\n",
    "X_simu2 = np.stack([X_simu, X_simu**2, X_simu**3, X_simu**4, X_simu**5], axis=1)\n",
    "\n",
    "# 線形回帰モデルによる予測値\n",
    "Y_prd1 = linear_model.predict(X_simu.reshape(-1, 1))\n",
    "# 線形回帰モデル(対数版)による予測値\n",
    "Y_prd2 = linear_model2.predict(X_simu2)\n",
    "\n",
    "# 1次関数：赤い点線、予測値：オレンジ、実際の値：青い散布図\n",
    "plt.scatter(X, Y)\n",
    "plt.plot(X_simu, Y_prd1, color=\"darkred\", linewidth=1, linestyle=\"dashed\")\n",
    "plt.plot(X_simu, Y_prd2, color=\"green\", linewidth=4, linestyle=\"solid\")\n",
    "plt.show()"
   ]
  },
  {
   "cell_type": "code",
   "execution_count": 24,
   "metadata": {},
   "outputs": [
    {
     "data": {
      "text/plain": [
       "[<matplotlib.lines.Line2D at 0x7f1c6b7016d8>]"
      ]
     },
     "execution_count": 24,
     "metadata": {},
     "output_type": "execute_result"
    },
    {
     "data": {
      "image/png": "[encoded data removed]",
      "text/plain": [
       "<Figure size 432x288 with 1 Axes>"
      ]
     },
     "metadata": {
      "needs_background": "light"
     },
     "output_type": "display_data"
    }
   ],
   "source": [
    "# MSEの結果を入れるリスト\n",
    "mse_list_train = []\n",
    "mse_list_valid = []\n",
    "\n",
    "# 次元の範囲\n",
    "digree = range(2, 41)\n",
    "\n",
    "for i in digree:\n",
    "    # i次元の多項式モデルを作成\n",
    "    X3 = X.reshape(-1)\n",
    "    X3 = np.stack([X3**j for j in range(1, i)], axis=1)\n",
    "    \n",
    "    # データセットの分割。X3を使ってることに注意\n",
    "    X_train, X_test, Y_train, Y_test = train_test_split(X3, Y, test_size=0.3, random_state=0)\n",
    "    X_train, X_valid, Y_train, Y_valid = train_test_split(X3, Y, test_size=0.3, random_state=0)\n",
    "    \n",
    "    # モデルの作成～予測\n",
    "    linear_model3 = LinearRegression()\n",
    "    linear_model3.fit(X_train, Y_train)\n",
    "\n",
    "    # 学習データに対する予測とMSEの算出\n",
    "    Y_pred = linear_model3.predict(X_train)\n",
    "    mse = mean_squared_error(Y_train, Y_pred)\n",
    "    mse_list_train.append(mse)    \n",
    "    \n",
    "    # 検証データに対する予測とMSEの算出\n",
    "    Y_pred = linear_model3.predict(X_valid)\n",
    "    mse = mean_squared_error(Y_valid, Y_pred)\n",
    "    mse_list_valid.append(mse)\n",
    "# グラフの描写\n",
    "plt.plot(digree, mse_list_train, color=\"red\")\n",
    "plt.plot(digree, mse_list_valid, color=\"blue\")"
   ]
  },
  {
   "cell_type": "code",
   "execution_count": 25,
   "metadata": {},
   "outputs": [
    {
     "name": "stdout",
     "output_type": "stream",
     "text": [
      "Y= (241,) , X4= (241, 5)\n"
     ]
    }
   ],
   "source": [
    "# 目的変数(Y)：推定年俸：salary\n",
    "# 説明変数(X)：打点：points, 年数：years_exp, 打率：batting, 本塁打：homerun, 球団勝率：team_win\n",
    "X4 = np.array(dataset[['points', 'years_exp', 'batting', 'homerun', 'team_win']])\n",
    "\n",
    "# 形状を確認\n",
    "print(\"Y=\", Y.shape, \", X4=\", X4.shape)"
   ]
  },
  {
   "cell_type": "code",
   "execution_count": 26,
   "metadata": {},
   "outputs": [
    {
     "name": "stdout",
     "output_type": "stream",
     "text": [
      "MSE(多重線形回帰モデル)： 38730649.70299631\n"
     ]
    }
   ],
   "source": [
    "# データセットの分割。X4を使っていることに注意する。\n",
    "X_train, X_test, Y_train, Y_test = train_test_split(X4, Y, test_size=0.3, random_state=0)\n",
    "X_train, X_valid, Y_train, Y_valid = train_test_split(X4, Y, test_size=0.3, random_state=0)\n",
    "\n",
    "# モデルの作成～予測\n",
    "general_model = LinearRegression()\n",
    "general_model.fit(X_train, Y_train)\n",
    "Y_pred = general_model.predict(X_valid)\n",
    "\n",
    "# MSEを算出\n",
    "general_model_mse = mean_squared_error(Y_valid, Y_pred)\n",
    "print(\"MSE(多重線形回帰モデル)：\", general_model_mse)"
   ]
  },
  {
   "cell_type": "code",
   "execution_count": 27,
   "metadata": {},
   "outputs": [
    {
     "name": "stdout",
     "output_type": "stream",
     "text": [
      "MSE(Lasso回帰)： 38690543.25962217\n"
     ]
    }
   ],
   "source": [
    "from sklearn.linear_model import Lasso\n",
    "\n",
    "# データセットの分割。X4を使っていることに注意。\n",
    "X_train, X_test, Y_train, Y_test = train_test_split(X4, Y, test_size=0.3, random_state=0)\n",
    "X_train, X_valid, Y_train, Y_valid = train_test_split(X4, Y, test_size=0.3, random_state=0)\n",
    "\n",
    "# モデルの作成～予測\n",
    "lasso_model = Lasso()\n",
    "lasso_model.fit(X_train, Y_train)\n",
    "Y_pred = lasso_model.predict(X_valid)\n",
    "\n",
    "# MSEを算出\n",
    "lasso_model_mse = mean_squared_error(Y_valid, Y_pred)\n",
    "print(\"MSE(Lasso回帰)：\", lasso_model_mse)"
   ]
  },
  {
   "cell_type": "code",
   "execution_count": 28,
   "metadata": {},
   "outputs": [
    {
     "name": "stdout",
     "output_type": "stream",
     "text": [
      "MSE(Ridge回帰)： 37913070.846773855\n"
     ]
    }
   ],
   "source": [
    "from sklearn.linear_model import Ridge\n",
    "\n",
    "# データセットの分割。X4を使っていることに注意\n",
    "X_train, X_test, Y_train, Y_test = train_test_split(X4, Y, test_size=0.3, random_state=0)\n",
    "X_train, X_valid, Y_train, Y_valid = train_test_split(X4, Y, test_size=0.3, random_state=0)\n",
    "\n",
    "# モデルの作成～予測\n",
    "ridge_model = Ridge()\n",
    "ridge_model.fit(X_train, Y_train)\n",
    "Y_pred = ridge_model.predict(X_valid)\n",
    "\n",
    "# MSEを算出\n",
    "ridge_model_mse = mean_squared_error(Y_valid, Y_pred)\n",
    "print(\"MSE(Ridge回帰)：\", ridge_model_mse)"
   ]
  },
  {
   "cell_type": "code",
   "execution_count": 29,
   "metadata": {},
   "outputs": [
    {
     "name": "stdout",
     "output_type": "stream",
     "text": [
      "MSE(回帰木)： 89976738.35616438\n"
     ]
    }
   ],
   "source": [
    "from sklearn.tree import DecisionTreeRegressor\n",
    "\n",
    "# データの分割。X4を使っていることに注意\n",
    "X_train, X_test, Y_train, Y_test = train_test_split(X4, Y, test_size=0.3, random_state=0)\n",
    "X_train, X_valid, Y_train, Y_valid = train_test_split(X4, Y, test_size=0.3, random_state=0)\n",
    "\n",
    "# モデルの作成～予測\n",
    "tree_model = DecisionTreeRegressor()\n",
    "tree_model.fit(X_train, Y_train)\n",
    "Y_pred = tree_model.predict(X_valid)\n",
    "\n",
    "# MSEを算出\n",
    "tree_model_mse = mean_squared_error(Y_valid, Y_pred)\n",
    "print(\"MSE(回帰木)：\", tree_model_mse)"
   ]
  },
  {
   "cell_type": "code",
   "execution_count": 30,
   "metadata": {},
   "outputs": [
    {
     "name": "stdout",
     "output_type": "stream",
     "text": [
      "MSE(ランダムフォレスト)： 45016659.49315068\n"
     ]
    }
   ],
   "source": [
    "from sklearn.ensemble import RandomForestRegressor\n",
    "\n",
    "# データの分割。X4を使用していることに注意\n",
    "X_train, X_test, Y_train, Y_test = train_test_split(X4, Y, test_size=0.3, random_state=0)\n",
    "X_train, X_valid, Y_train, Y_test = train_test_split(X4, Y, test_size=0.3, random_state=0)\n",
    "\n",
    "# モデルの作成\n",
    "randomforest_model = RandomForestRegressor(n_estimators=10, random_state=0)\n",
    "randomforest_model.fit(X_train, Y_train)\n",
    "Y_pred = randomforest_model.predict(X_valid)\n",
    "\n",
    "# MSEの計算\n",
    "randomforest_model_mse = mean_squared_error(Y_valid, Y_pred)\n",
    "print(\"MSE(ランダムフォレスト)：\", randomforest_model_mse)"
   ]
  },
  {
   "cell_type": "code",
   "execution_count": 35,
   "metadata": {},
   "outputs": [],
   "source": [
    "import itertools\n",
    "\n",
    "def get_best_features(x, y, feature_names, model):\n",
    "    # すべての説明変数の組み合わせを入れるリスト\n",
    "    _name_list = []\n",
    "    \n",
    "    # 指定された長さの組み合わせを作成する\n",
    "    for i in range(1, len(feature_names)+1):\n",
    "        for submit in itertools.permutations(feature_names, i):\n",
    "            _name_list.append(list(submit))\n",
    "            \n",
    "    # 最良のMSEを入れる変数（大きい値を入れておく）\n",
    "    _best_mse = 999999999999\n",
    "    _best_mse_name = \"\"\n",
    "    \n",
    "    # 総当たりで比較する\n",
    "    for _name in _name_list:\n",
    "        _x = np.array(x[_name])\n",
    "        \n",
    "        # データセットの分割。X4を使っていることに注意\n",
    "        _x_train, _x_test, _y_train, _y_test = train_test_split(X4, Y, test_size=0.3, random_state=0)\n",
    "        _x_train, _x_valid, _y_train, _y_valid = train_test_split(X4, Y, test_size=0.3, random_state=0)\n",
    "        \n",
    "        # モデルの作成～予測\n",
    "        model.fit(_x_train, _y_train)\n",
    "        _y_pred = model.predict(_x_valid)\n",
    "        \n",
    "        # MSEを算出\n",
    "        _mse = mean_squared_error(_y_valid, _y_pred)\n",
    "        \n",
    "        # 最小のmseを補完\n",
    "        if _mse < _best_mse:\n",
    "            _best_mse = _mse\n",
    "            _best_mse_name = _name\n",
    "    \n",
    "    print(model.__class__.__name__, \":\", \",\".join(_best_mse_name), \": MSE=\", _best_mse)"
   ]
  },
  {
   "cell_type": "code",
   "execution_count": 36,
   "metadata": {},
   "outputs": [
    {
     "name": "stdout",
     "output_type": "stream",
     "text": [
      "LinearRegression : points : MSE= 38730649.70299631\n",
      "Lasso : points : MSE= 38690543.25962217\n",
      "Ridge : points : MSE= 37913070.846773855\n",
      "DecisionTreeRegressor : points,years_exp,batting,homerun : MSE= 62340398.63013699\n",
      "RandomForestRegressor : points : MSE= 49516717.48054795\n"
     ]
    }
   ],
   "source": [
    "# 説明変数名のリスト\n",
    "feature_names = [\"points\", \"years_exp\", \"batting\", \"homerun\", \"team_win\"]\n",
    "\n",
    "# モデルのリストを用意\n",
    "model_list = []\n",
    "model_list.append(LinearRegression())\n",
    "model_list.append(Lasso())\n",
    "model_list.append(Ridge())\n",
    "model_list.append(DecisionTreeRegressor())\n",
    "model_list.append(RandomForestRegressor(n_estimators=100, random_state=0))\n",
    "\n",
    "for model in model_list:\n",
    "    get_best_features(dataset, Y, feature_names, model)"
   ]
  },
  {
   "cell_type": "code",
   "execution_count": 37,
   "metadata": {},
   "outputs": [],
   "source": [
    "from sklearn.model_selection import GridSearchCV\n",
    "\n",
    "# モデル：ランダムフォレスト\n",
    "model = RandomForestRegressor(random_state=0)\n",
    "\n",
    "# パラメータ:n_estimators:木の数、max_depth:木の深さ\n",
    "params = {\"n_estimators\":[10, 50, 100], \"max_depth\":[5, 10, 50]}\n",
    "\n",
    "# グリッドサーチ\n",
    "# cv:交差検証の回数, scoring:目的変数\n",
    "gscv = GridSearchCV(model, param_grid=params, cv=3, scoring=\"neg_mean_squared_error\")"
   ]
  },
  {
   "cell_type": "code",
   "execution_count": 39,
   "metadata": {},
   "outputs": [],
   "source": [
    "# ランダムフォレストで性能が良かった説明変数の組み合わせを指定\n",
    "X5 = np.array(dataset[[\"years_exp\", \"homerun\", \"team_win\", \"batting\"]])\n",
    "\n",
    "# データセットの分割。X5を使っていることに注意\n",
    "X_train, X_test, Y_train, Y_test = train_test_split(X5, Y, test_size=0.3, random_state=0)"
   ]
  },
  {
   "cell_type": "code",
   "execution_count": 40,
   "metadata": {},
   "outputs": [
    {
     "data": {
      "text/plain": [
       "GridSearchCV(cv=3, error_score='raise',\n",
       "       estimator=RandomForestRegressor(bootstrap=True, criterion='mse', max_depth=None,\n",
       "           max_features='auto', max_leaf_nodes=None,\n",
       "           min_impurity_decrease=0.0, min_impurity_split=None,\n",
       "           min_samples_leaf=1, min_samples_split=2,\n",
       "           min_weight_fraction_leaf=0.0, n_estimators=10, n_jobs=1,\n",
       "           oob_score=False, random_state=0, verbose=0, warm_start=False),\n",
       "       fit_params=None, iid=True, n_jobs=1,\n",
       "       param_grid={'n_estimators': [10, 50, 100], 'max_depth': [5, 10, 50]},\n",
       "       pre_dispatch='2*n_jobs', refit=True, return_train_score='warn',\n",
       "       scoring='neg_mean_squared_error', verbose=0)"
      ]
     },
     "execution_count": 40,
     "metadata": {},
     "output_type": "execute_result"
    }
   ],
   "source": [
    "gscv.fit(X_train, Y_train)"
   ]
  },
  {
   "cell_type": "code",
   "execution_count": 41,
   "metadata": {},
   "outputs": [
    {
     "data": {
      "text/plain": [
       "-53664795.33467119"
      ]
     },
     "execution_count": 41,
     "metadata": {},
     "output_type": "execute_result"
    }
   ],
   "source": [
    "gscv.best_score_"
   ]
  },
  {
   "cell_type": "code",
   "execution_count": 42,
   "metadata": {},
   "outputs": [
    {
     "data": {
      "text/plain": [
       "{'max_depth': 10, 'n_estimators': 50}"
      ]
     },
     "execution_count": 42,
     "metadata": {},
     "output_type": "execute_result"
    }
   ],
   "source": [
    "gscv.best_params_"
   ]
  },
  {
   "cell_type": "code",
   "execution_count": 43,
   "metadata": {},
   "outputs": [
    {
     "name": "stdout",
     "output_type": "stream",
     "text": [
      "MSE(ランダムフォレスト)： 53310373.3638637\n"
     ]
    }
   ],
   "source": [
    "# 最適なパラメータによる学習\n",
    "randomforest_model = RandomForestRegressor(n_estimators=50, max_depth=10, random_state=0)\n",
    "randomforest_model.fit(X_train, Y_train)\n",
    "\n",
    "# テストデータによる評価\n",
    "Y_pred = randomforest_model.predict(X_test)\n",
    "\n",
    "randomforest_model_mse = mean_squared_error(Y_test, Y_pred)\n",
    "print(\"MSE(ランダムフォレスト)：\", randomforest_model_mse)"
   ]
  },
  {
   "cell_type": "code",
   "execution_count": null,
   "metadata": {},
   "outputs": [],
   "source": []
  }
 ],
 "metadata": {
  "kernelspec": {
   "display_name": "Python 3",
   "language": "python",
   "name": "python3"
  },
  "language_info": {
   "codemirror_mode": {
    "name": "ipython",
    "version": 3
   },
   "file_extension": ".py",
   "mimetype": "text/x-python",
   "name": "python",
   "nbconvert_exporter": "python",
   "pygments_lexer": "ipython3",
   "version": "3.6.5"
  }
 },
 "nbformat": 4,
 "nbformat_minor": 2
}
